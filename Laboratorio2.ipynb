{
 "cells": [
  {
   "cell_type": "markdown",
   "metadata": {},
   "source": [
    "## Preparación del entorno"
   ]
  },
  {
   "cell_type": "code",
   "execution_count": 1,
   "metadata": {
    "collapsed": false
   },
   "outputs": [],
   "source": [
    "import numpy as np\n",
    "\n",
    "import sklearn\n",
    "\n",
    "import pandas as pd"
   ]
  },
  {
   "cell_type": "markdown",
   "metadata": {},
   "source": [
    "Si el entorno está correctamente instalado, las líneas de código anteriores deben importar los paquetes sin ningún error.\n",
    "\n",
    "Nota: para el resto de las preguntas y soluciones de código, puede ingresar más celdas si lo considera necesario.\n"
   ]
  },
  {
   "cell_type": "markdown",
   "metadata": {},
   "source": [
    "## Carga y estudio de datos"
   ]
  },
  {
   "cell_type": "markdown",
   "metadata": {},
   "source": [
    "Cargue los datos desde el archivo *adult_data.csv*. Para esto puede utilizar la librería *pandas* con su función *read_csv*."
   ]
  },
  {
   "cell_type": "code",
   "execution_count": 2,
   "metadata": {
    "collapsed": false
   },
   "outputs": [],
   "source": [
    "data = pd.read_csv('adult_data.csv')"
   ]
  },
  {
   "cell_type": "markdown",
   "metadata": {},
   "source": [
    "Imprima los nombres de las columnas (atributos)."
   ]
  },
  {
   "cell_type": "code",
   "execution_count": 3,
   "metadata": {
    "collapsed": false
   },
   "outputs": [
    {
     "data": {
      "text/html": [
       "<div>\n",
       "<style>\n",
       "    .dataframe thead tr:only-child th {\n",
       "        text-align: right;\n",
       "    }\n",
       "\n",
       "    .dataframe thead th {\n",
       "        text-align: left;\n",
       "    }\n",
       "\n",
       "    .dataframe tbody tr th {\n",
       "        vertical-align: top;\n",
       "    }\n",
       "</style>\n",
       "<table border=\"1\" class=\"dataframe\">\n",
       "  <thead>\n",
       "    <tr style=\"text-align: right;\">\n",
       "      <th></th>\n",
       "      <th>age</th>\n",
       "      <th>workclass</th>\n",
       "      <th>fnlwgt</th>\n",
       "      <th>education</th>\n",
       "      <th>education-num</th>\n",
       "      <th>marital-status</th>\n",
       "      <th>occupation</th>\n",
       "      <th>relationship</th>\n",
       "      <th>race</th>\n",
       "      <th>sex</th>\n",
       "      <th>capital-gain</th>\n",
       "      <th>capital-loss</th>\n",
       "      <th>hours-per-week</th>\n",
       "      <th>native-country</th>\n",
       "      <th>income</th>\n",
       "    </tr>\n",
       "  </thead>\n",
       "  <tbody>\n",
       "  </tbody>\n",
       "</table>\n",
       "</div>"
      ],
      "text/plain": [
       "Empty DataFrame\n",
       "Columns: [age, workclass, fnlwgt, education, education-num, marital-status, occupation, relationship, race, sex, capital-gain, capital-loss, hours-per-week, native-country, income]\n",
       "Index: []"
      ]
     },
     "execution_count": 3,
     "metadata": {},
     "output_type": "execute_result"
    }
   ],
   "source": [
    "data.head(0)"
   ]
  },
  {
   "cell_type": "markdown",
   "metadata": {},
   "source": [
    "## Extracción de atributos"
   ]
  },
  {
   "cell_type": "markdown",
   "metadata": {},
   "source": [
    "Separar la columna **income** en un array **y** que será utilizada como atributo clase:"
   ]
  },
  {
   "cell_type": "code",
   "execution_count": 4,
   "metadata": {
    "collapsed": false
   },
   "outputs": [],
   "source": [
    "y = data['income']"
   ]
  },
  {
   "cell_type": "markdown",
   "metadata": {},
   "source": [
    "Eliminar la columna **fnlwgt** ya que no aporta a la solución del problema. También eliminar la columna **education-num** ya que duplica la información de la columna 'education'. Por último, eliminar la columna **income** ya que es la columna que contiene la clase que se pretende predecir:"
   ]
  },
  {
   "cell_type": "code",
   "execution_count": 5,
   "metadata": {
    "collapsed": false
   },
   "outputs": [],
   "source": [
    "x = data[['age','workclass','education','marital-status','occupation','relationship','race','sex','capital-gain','capital-loss','hours-per-week','native-country']]"
   ]
  },
  {
   "cell_type": "markdown",
   "metadata": {},
   "source": [
    "Los atributos cuyos valores son categorías ('workclass', 'education', 'marital-status', 'occupation', 'relationship', 'race', 'sex', 'native-country'), deben de transformarse a valores numéricos para poder ser utilizados como entradas en los modelos de scikit-learn."
   ]
  },
  {
   "cell_type": "markdown",
   "metadata": {},
   "source": [
    "**PREGUNTA: ¿Por qué no es apropiado transformar un atributo de categoría en simples índices numéricos?**"
   ]
  },
  {
   "cell_type": "markdown",
   "metadata": {},
   "source": [
    "**RESPUESTA: **\n",
    "El problema de asignarle un índice numérico está en que implícitamente se le asigna un orden. Para ciertos atributos en ciertos casos no estaría mal asignarle un orden como por ejemplo el atributo **Mes**, pero el orden no es laro cuando hablamos del atributo **País**. \n",
    "\n",
    "El problema de asignarle orden a los atributos categoriales se puede ver en los clasificadores como por ejemplo en KNN, donde al utilizar la función distancia con el atributo País y sus valores [Uruguay,Argentina,Brasil] y su respectiva codifiación [0,1,2], hace que Uruguay esté mas cerca de Argentina y mas lejos de Uruguay, cuando en realidad tal vez no existía tal relación.\n",
    "Otros algoritmos, como el id3, no presentan este problema, por lo que pueden trabajar con atributos categoriales sin ningún problema."
   ]
  },
  {
   "cell_type": "markdown",
   "metadata": {},
   "source": [
    "Utilice las clases *LabelEncoder* y *OneHotEncoder* del paquete *preprocessing* de *sklearn* para transformar los atributos de categorías en atributos numéricos. Guarde los datos de entrada en una matriz **X**."
   ]
  },
  {
   "cell_type": "code",
   "execution_count": 6,
   "metadata": {
    "collapsed": false,
    "scrolled": true
   },
   "outputs": [
    {
     "name": "stdout",
     "output_type": "stream",
     "text": [
      "99\n",
      "(5000, 12)\n",
      "(5000, 103)\n"
     ]
    }
   ],
   "source": [
    "from sklearn.preprocessing import LabelEncoder,OneHotEncoder\n",
    "\n",
    "categorical_columns = set(['workclass','education','marital-status','occupation','relationship','race','sex','native-country'])\n",
    "categorical_indices = []\n",
    "\n",
    "X = pd.DataFrame()\n",
    "le = LabelEncoder()\n",
    "unique_categorical_values = 0\n",
    "for index,attr in enumerate(x):\n",
    "    if attr in categorical_columns:\n",
    "        categorical_indices.append(index)\n",
    "        unique_categorical_values += len(x[attr].unique())\n",
    "        le.fit(x[attr])\n",
    "        X[attr] = le.transform(x[attr])\n",
    "    else:\n",
    "        X[attr] = pd.Series(x[attr])\n",
    "print unique_categorical_values\n",
    "ohe = OneHotEncoder(categorical_features=categorical_indices)\n",
    "print X.shape\n",
    "ohe.fit(X)\n",
    "X = ohe.transform(X)\n",
    "print X.shape"
   ]
  },
  {
   "cell_type": "markdown",
   "metadata": {},
   "source": [
    "**PREGUNTA: ¿Cuántos y cuáles son los nuevos atributos del dataset?**"
   ]
  },
  {
   "cell_type": "markdown",
   "metadata": {},
   "source": [
    "**RESPUESTA:** A partir del shape obtenido antes de aplicarle la transformación de OneHotEncoder, la cantidad de atributos era 12, luego pasó a ser 103, por lo que hay 91 nuevos atributos. Esto se explica porque OneHotEncoder se encarga de agregar un atributo por cada posible valor de los atributos categoriales. Como se desprende de la variable **unique_categorical_values**, estos son 99, mas los 4 atributos continuos son 103 atributos."
   ]
  },
  {
   "cell_type": "markdown",
   "metadata": {},
   "source": [
    "Entrene un clasificador, aplique los pasos que crea necesarios para mejorar su performance y evalúe dicho clasificador con validación cruzada (precision, recall, f-score)."
   ]
  },
  {
   "cell_type": "code",
   "execution_count": 39,
   "metadata": {
    "collapsed": false
   },
   "outputs": [
    {
     "name": "stdout",
     "output_type": "stream",
     "text": [
      "{'feat__k': 21, 'clf__n_neighbors': 5}\n",
      "0.829\n",
      "             precision    recall  f1-score   support\n",
      "\n",
      "      <=50K       0.89      0.95      0.92      3779\n",
      "       >50K       0.81      0.62      0.70      1221\n",
      "\n",
      "avg / total       0.87      0.87      0.87      5000\n",
      "\n"
     ]
    }
   ],
   "source": [
    "from sklearn.model_selection import GridSearchCV\n",
    "from sklearn import feature_selection\n",
    "from sklearn.pipeline import Pipeline\n",
    "from sklearn.neighbors import KNeighborsClassifier\n",
    "from sklearn import metrics\n",
    "\n",
    "ley = LabelEncoder()\n",
    "ley.fit(y)\n",
    "encoded_y = ley.transform(y)\n",
    "\n",
    "count_feats = range(1,104,1)\n",
    "k_neigh = range(1,30,2)\n",
    "parameters = {'feat__k' : count_feats, 'clf__n_neighbors': k_neigh}\n",
    "pipe = Pipeline([('feat', feature_selection.SelectKBest(feature_selection.chi2)),\n",
    "        ('clf', KNeighborsClassifier())])\n",
    "\n",
    "knn_clf = GridSearchCV(pipe, parameters, n_jobs=-1).fit(X, encoded_y)\n",
    "print knn_clf.best_params_\n",
    "print knn_clf.best_score_\n",
    "predicted = knn_clf.predict(X)\n",
    "\n",
    "print (metrics.classification_report(encoded_y, predicted, target_names=['<=50K','>50K']))"
   ]
  },
  {
   "cell_type": "markdown",
   "metadata": {},
   "source": [
    "Como el vector **y** no es numérico, lo primero que se hace es transofmarlo utilizando LabelEncoder. No fue necesario utilizar OneHotEncoder ya que el atributo es binario y además hay un claro orden entre los valores (menor ó mayor que cincuenta mil). \n",
    "\n",
    "Luego se hizo una prueba de hiper parámetros en la selección de atributos sobre la cantidad de los mismos y por otro lado en la cantidad de vecinos del clasificador knn. Esta se hizo utilizando Cross Validation con el KFold por defecto de 3. \n",
    "\n",
    "Las mejores configuraciones fueron:\n",
    "n_neighbors=5 y k = 21.\n",
    "\n",
    "Se logró una precisión y un recall de 87%, por lo tanto f1-score también fue de 87%."
   ]
  }
 ],
 "metadata": {
  "anaconda-cloud": {},
  "kernelspec": {
   "display_name": "Python [conda env:py27]",
   "language": "python",
   "name": "conda-env-py27-py"
  },
  "language_info": {
   "codemirror_mode": {
    "name": "ipython",
    "version": 2
   },
   "file_extension": ".py",
   "mimetype": "text/x-python",
   "name": "python",
   "nbconvert_exporter": "python",
   "pygments_lexer": "ipython2",
   "version": "2.7.13"
  }
 },
 "nbformat": 4,
 "nbformat_minor": 0
}
